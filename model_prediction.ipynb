{
 "cells": [
  {
   "cell_type": "code",
   "execution_count": 53,
   "id": "initial_id",
   "metadata": {
    "collapsed": true,
    "ExecuteTime": {
     "end_time": "2023-11-10T11:48:35.670282300Z",
     "start_time": "2023-11-10T11:48:35.659605200Z"
    }
   },
   "outputs": [],
   "source": [
    "import pickle\n",
    "import pandas as pd"
   ]
  },
  {
   "cell_type": "code",
   "execution_count": 54,
   "outputs": [],
   "source": [
    "# load models\n",
    "with open(\"saved_models/\" + \"engine_health_prediction_RF_model.pkl\", 'rb') as file:\n",
    "    engine_health_model = pickle.load(file)\n",
    "\n",
    "# load RUL battery predidction model\n",
    "with open(\"saved_models/\" + \"RUL_battery_prediction_XGBoost_model.pkl\", 'rb') as file:\n",
    "    rul_battery_model = pickle.load(file)\n",
    "# Create subplots"
   ],
   "metadata": {
    "collapsed": false,
    "ExecuteTime": {
     "end_time": "2023-11-10T11:48:36.060103200Z",
     "start_time": "2023-11-10T11:48:35.949946Z"
    }
   },
   "id": "baf4a69794ab0d42"
  },
  {
   "cell_type": "code",
   "execution_count": 55,
   "outputs": [],
   "source": [
    "def get_model_predictions(df_engine_data,df_battery_rul_data):\n",
    "    engine_health_status_predictions = []\n",
    "    engine_health_status_probs = engine_health_model.predict_proba(df_engine_data)[:,1]\n",
    "    for engine_health_status in engine_health_status_probs:\n",
    "        if engine_health_status>=0.65:\n",
    "            engine_health_status_predictions.append(\"good\")\n",
    "        else:\n",
    "            engine_health_status_predictions.append(\"bad\")\n",
    "    \n",
    "    battery_rul = rul_battery_model.predict(df_battery_rul_data)\n",
    "    \n",
    "    return engine_health_status_predictions, battery_rul"
   ],
   "metadata": {
    "collapsed": false,
    "ExecuteTime": {
     "end_time": "2023-11-10T11:48:36.391798Z",
     "start_time": "2023-11-10T11:48:36.372794400Z"
    }
   },
   "id": "c99fc5726b036b75"
  },
  {
   "cell_type": "code",
   "execution_count": 56,
   "outputs": [
    {
     "name": "stdout",
     "output_type": "stream",
     "text": [
      "['bad', 'good'] [1111.9913 1111.9913]\n"
     ]
    }
   ],
   "source": [
    "engine_health_data = [{\"Engine rpm\":700,\"Lub oil pressure\":2.493592,\"Fuel pressure\":11.790927,\"Coolant pressure\":3.178981,\"lub oil temp\":84.144163,\"Coolant temp\":81.632187},\n",
    "                      {\"Engine rpm\":100,\"Lub oil pressure\":2.493592,\"Fuel pressure\":11.790927,\"Coolant pressure\":3.178981,\"lub oil temp\":84.144163,\"Coolant temp\":81.632187}\n",
    "                      ]\n",
    "df_engine_health_data = pd.DataFrame(engine_health_data)\n",
    "\n",
    "battery_rul_data = [{'Cycle_Index':1.0, 'Discharge Time (s)':2595.30, 'Decrement 3.6-3.4V (s)':1151.488500,\n",
    "                     'Max. Voltage Dischar. (V)':3.670, 'Min. Voltage Charg. (V)':3.211,\n",
    "                     'Time at 4.15V (s)':5460.001, 'Time constant current (s)':6755.01, 'Charging time (s)':10777.82},{'Cycle_Index':1.0, 'Discharge Time (s)':2595.30, 'Decrement 3.6-3.4V (s)':1151.488500,\n",
    "                                                                                                                       'Max. Voltage Dischar. (V)':3.670, 'Min. Voltage Charg. (V)':3.211,\n",
    "                                                                                                                       'Time at 4.15V (s)':5460.001, 'Time constant current (s)':6755.01, 'Charging time (s)':10777.82}]\n",
    "df_battery_rul_data = pd.DataFrame(battery_rul_data)\n",
    "\n",
    "engine_health_status, battery_rul = get_model_predictions(df_engine_health_data,df_battery_rul_data)\n",
    "print(engine_health_status,battery_rul)"
   ],
   "metadata": {
    "collapsed": false,
    "ExecuteTime": {
     "end_time": "2023-11-10T11:48:36.933649700Z",
     "start_time": "2023-11-10T11:48:36.861059Z"
    }
   },
   "id": "a64dbeb589228e58"
  }
 ],
 "metadata": {
  "kernelspec": {
   "display_name": "Python 3",
   "language": "python",
   "name": "python3"
  },
  "language_info": {
   "codemirror_mode": {
    "name": "ipython",
    "version": 2
   },
   "file_extension": ".py",
   "mimetype": "text/x-python",
   "name": "python",
   "nbconvert_exporter": "python",
   "pygments_lexer": "ipython2",
   "version": "2.7.6"
  }
 },
 "nbformat": 4,
 "nbformat_minor": 5
}
